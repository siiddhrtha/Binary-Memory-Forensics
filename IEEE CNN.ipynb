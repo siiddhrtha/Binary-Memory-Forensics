{
 "cells": [
  {
   "cell_type": "code",
   "execution_count": 20,
   "id": "78cae96c",
   "metadata": {},
   "outputs": [],
   "source": [
    "import numpy as np # linear algebra\n",
    "import pandas as pd # data processing\n",
    "import matplotlib.pyplot as plt\n",
    "import os\n",
    "import warnings\n",
    "warnings.filterwarnings(\"ignore\")\n",
    "os.environ['TF_CPP_MIN_LOG_LEVEL'] = '3'\n",
    "\n",
    "from PIL import Image\n",
    "from tqdm import tqdm\n",
    "from sklearn.model_selection import train_test_split\n",
    "from sklearn.metrics import confusion_matrix\n",
    "from keras.utils.np_utils import to_categorical\n",
    "\n",
    "import tensorflow as tf\n",
    "from keras.models import Sequential\n",
    "from keras.layers import Dense, Dropout, Flatten, Conv2D, MaxPool2D, BatchNormalization\n",
    "from tensorflow.keras.optimizers import Adam, SGD\n",
    "from keras.preprocessing.image import ImageDataGenerator\n",
    "from keras.callbacks import ReduceLROnPlateau, EarlyStopping\n",
    "%matplotlib inline\n",
    "\n"
   ]
  },
  {
   "cell_type": "code",
   "execution_count": 1,
   "id": "abfe46c6",
   "metadata": {},
   "outputs": [
    {
     "ename": "NameError",
     "evalue": "name 'tqdm' is not defined",
     "output_type": "error",
     "traceback": [
      "\u001b[1;31m---------------------------------------------------------------------------\u001b[0m",
      "\u001b[1;31mNameError\u001b[0m                                 Traceback (most recent call last)",
      "\u001b[1;32m~\\AppData\\Local\\Temp/ipykernel_10072/29809903.py\u001b[0m in \u001b[0;36m<module>\u001b[1;34m\u001b[0m\n\u001b[0;32m      2\u001b[0m \u001b[0mtraining_list_mal\u001b[0m \u001b[1;33m=\u001b[0m \u001b[1;33m[\u001b[0m\u001b[1;33m]\u001b[0m\u001b[1;33m\u001b[0m\u001b[1;33m\u001b[0m\u001b[0m\n\u001b[0;32m      3\u001b[0m \u001b[1;33m\u001b[0m\u001b[0m\n\u001b[1;32m----> 4\u001b[1;33m \u001b[1;32mfor\u001b[0m \u001b[0md\u001b[0m \u001b[1;32min\u001b[0m \u001b[0mtqdm\u001b[0m\u001b[1;33m(\u001b[0m\u001b[0mos\u001b[0m\u001b[1;33m.\u001b[0m\u001b[0mlistdir\u001b[0m\u001b[1;33m(\u001b[0m\u001b[0mtraining_dir_mal\u001b[0m\u001b[1;33m)\u001b[0m\u001b[1;33m)\u001b[0m\u001b[1;33m:\u001b[0m\u001b[1;33m\u001b[0m\u001b[1;33m\u001b[0m\u001b[0m\n\u001b[0m\u001b[0;32m      5\u001b[0m     \u001b[1;32mif\u001b[0m \u001b[0md\u001b[0m \u001b[1;33m==\u001b[0m \u001b[1;34m'_DS_Store'\u001b[0m\u001b[1;33m:\u001b[0m\u001b[1;33m\u001b[0m\u001b[1;33m\u001b[0m\u001b[0m\n\u001b[0;32m      6\u001b[0m         \u001b[1;32mcontinue\u001b[0m\u001b[1;33m\u001b[0m\u001b[1;33m\u001b[0m\u001b[0m\n",
      "\u001b[1;31mNameError\u001b[0m: name 'tqdm' is not defined"
     ]
    }
   ],
   "source": [
    "training_dir_mal = r\"C:\\Users\\siddh\\Downloads\\Image\\train\\MaliciousImages\"\n",
    "training_list_mal = []\n",
    "\n",
    "for d in tqdm(os.listdir(training_dir_mal)):\n",
    "    if d == '_DS_Store':\n",
    "        continue\n",
    "    path = training_dir_mal+'/'+d\n",
    "    image = Image.open(path).resize((200, 200)).convert('L')\n",
    "    pixels = np.asarray(image).astype('float64')\n",
    "    pixels /= 255\n",
    "    training_list_mal.append(pixels)"
   ]
  },
  {
   "cell_type": "code",
   "execution_count": 22,
   "id": "e5727cb6",
   "metadata": {},
   "outputs": [
    {
     "name": "stderr",
     "output_type": "stream",
     "text": [
      "100%|██████████| 9142/9142 [03:13<00:00, 47.20it/s]\n"
     ]
    }
   ],
   "source": [
    "training_dir_nor = r\"C:\\Users\\siddh\\Downloads\\Image\\train\\NormalImages\"\n",
    "training_list_nor = []\n",
    "\n",
    "for c in tqdm(os.listdir(training_dir_nor)):\n",
    "    if c == '_DS_Store':\n",
    "        continue\n",
    "    path = training_dir_nor+'/'+c\n",
    "    image = Image.open(path).resize((200, 200)).convert('L')\n",
    "    pixels = np.asarray(image).astype('float64')\n",
    "    pixels /= 255\n",
    "    training_list_nor.append(pixels)"
   ]
  },
  {
   "cell_type": "code",
   "execution_count": 23,
   "id": "7dee56a9",
   "metadata": {},
   "outputs": [
    {
     "name": "stderr",
     "output_type": "stream",
     "text": [
      "100%|██████████| 2980/2980 [00:58<00:00, 51.36it/s]\n"
     ]
    }
   ],
   "source": [
    "test_dir_mal = r\"C:\\Users\\siddh\\Downloads\\Image\\test\\MaliciousImages\"\n",
    "test_list_mal = []\n",
    "\n",
    "for d in tqdm(os.listdir(test_dir_mal)):\n",
    "    if d == '_DS_Store':\n",
    "        continue\n",
    "    path = test_dir_mal+'/'+d\n",
    "    image = Image.open(path).resize((200, 200)).convert('L')\n",
    "    pixels = np.asarray(image).astype('float64')\n",
    "    pixels /= 255\n",
    "    test_list_mal.append(pixels)"
   ]
  },
  {
   "cell_type": "code",
   "execution_count": 24,
   "id": "a7fc6af3",
   "metadata": {},
   "outputs": [
    {
     "name": "stderr",
     "output_type": "stream",
     "text": [
      "100%|██████████| 3048/3048 [01:00<00:00, 50.46it/s]\n"
     ]
    }
   ],
   "source": [
    "test_dir_nor = r\"C:\\Users\\siddh\\Downloads\\Image\\test\\NormalImages\"\n",
    "test_list_nor = []\n",
    "\n",
    "for c in tqdm(os.listdir(test_dir_nor)):\n",
    "    if c == '_DS_Store':\n",
    "        continue\n",
    "    path = test_dir_cats+'/'+c\n",
    "    image = Image.open(path).resize((200, 200)).convert('L')\n",
    "    pixels = np.asarray(image).astype('float64')\n",
    "    pixels /= 255\n",
    "    test_list_nor.append(pixels)"
   ]
  },
  {
   "cell_type": "code",
   "execution_count": 25,
   "id": "25afe7e4",
   "metadata": {},
   "outputs": [],
   "source": [
    "X_train = np.array([*training_list_mal, *training_list_nor])\n",
    "train_y_label_mal = np.zeros((len(training_list_mal), 1)) # mal labeled as 0\n",
    "train_y_label_nor = np.ones((len(training_list_nor), 1)) # nor labeled as 1\n",
    "y_train = np.concatenate((train_y_label_mal, train_y_label_nor))"
   ]
  },
  {
   "cell_type": "code",
   "execution_count": 26,
   "id": "da44c139",
   "metadata": {},
   "outputs": [],
   "source": [
    "X_test = np.array([*test_list_mal, *test_list_nor])\n",
    "test_y_label_mal = np.zeros((len(test_list_mal), 1)) # mal labeled as 0\n",
    "test_y_label_nor = np.ones((len(test_list_nor), 1)) # nor labeled as 1\n",
    "y_test = np.concatenate((test_y_label_mal, test_y_label_nor))"
   ]
  },
  {
   "cell_type": "code",
   "execution_count": 27,
   "id": "c055500c",
   "metadata": {},
   "outputs": [],
   "source": [
    "del training_list_mal\n",
    "del training_list_nor\n",
    "del test_list_mal\n",
    "del test_list_nor"
   ]
  },
  {
   "cell_type": "code",
   "execution_count": 28,
   "id": "f350789b",
   "metadata": {},
   "outputs": [],
   "source": [
    "# One-hot encoding\n",
    "y_train = to_categorical(y_train, num_classes = 2)\n",
    "y_test = to_categorical(y_test, num_classes = 2)"
   ]
  },
  {
   "cell_type": "code",
   "execution_count": 29,
   "id": "9d81899a",
   "metadata": {},
   "outputs": [
    {
     "data": {
      "text/plain": [
       "array([[1., 0.],\n",
       "       [1., 0.],\n",
       "       [1., 0.],\n",
       "       ...,\n",
       "       [0., 1.],\n",
       "       [0., 1.],\n",
       "       [0., 1.]], dtype=float32)"
      ]
     },
     "execution_count": 29,
     "metadata": {},
     "output_type": "execute_result"
    }
   ],
   "source": [
    "y_train"
   ]
  },
  {
   "cell_type": "code",
   "execution_count": 30,
   "id": "11f13804",
   "metadata": {},
   "outputs": [
    {
     "name": "stdout",
     "output_type": "stream",
     "text": [
      "X_train shape: (18081, 200, 200)\n",
      "y_train shape: (18081, 2)\n",
      "X_test shape: (6028, 200, 200)\n",
      "y_test shape: (6028, 2)\n"
     ]
    }
   ],
   "source": [
    "print(\"X_train shape:\",X_train.shape)\n",
    "print(\"y_train shape:\",y_train.shape)\n",
    "print(\"X_test shape:\",X_test.shape)\n",
    "print(\"y_test shape:\",y_test.shape)"
   ]
  },
  {
   "cell_type": "code",
   "execution_count": 31,
   "id": "3c446ad8",
   "metadata": {},
   "outputs": [
    {
     "name": "stdout",
     "output_type": "stream",
     "text": [
      "X_train reshaped: (18081, 200, 200, 1)\n",
      "X_test reshaped: (6028, 200, 200, 1)\n"
     ]
    }
   ],
   "source": [
    "X_train = X_train.reshape(-1, 200, 200, 1)\n",
    "X_test = X_test.reshape(-1, 200, 200, 1)\n",
    "print(\"X_train reshaped:\", X_train.shape)\n",
    "print(\"X_test reshaped:\",X_test.shape)"
   ]
  },
  {
   "cell_type": "code",
   "execution_count": 32,
   "id": "12747b3e",
   "metadata": {},
   "outputs": [
    {
     "name": "stdout",
     "output_type": "stream",
     "text": [
      "X_train shape: (14464, 200, 200, 1)\n",
      "X_validation shape: (3617, 200, 200, 1)\n",
      "Y_train shape: (14464, 2)\n",
      "Y_validation shape: (3617, 2)\n"
     ]
    }
   ],
   "source": [
    "X_train, X_val, Y_train, Y_val = train_test_split(X_train, y_train, test_size = 0.2, random_state = 31)\n",
    "print(\"X_train shape:\",X_train.shape)\n",
    "print(\"X_validation shape:\",X_val.shape)\n",
    "print(\"Y_train shape:\",Y_train.shape)\n",
    "print(\"Y_validation shape:\",Y_val.shape)"
   ]
  },
  {
   "cell_type": "code",
   "execution_count": 33,
   "id": "c8ad84ca",
   "metadata": {},
   "outputs": [
    {
     "data": {
      "image/png": "[encoded data removed]",
      "text/plain": [
       "<Figure size 576x432 with 1 Axes>"
      ]
     },
     "metadata": {
      "needs_background": "light"
     },
     "output_type": "display_data"
    }
   ],
   "source": [
    "plt.figure(figsize=(8,6))\n",
    "plt.bar([\"X train\", \"X validation\", \"X test\"], [X_train.shape[0], X_val.shape[0], X_test.shape[0]], color=[\"maroon\", \"cyan\", \"seagreen\"], width=0.4)\n",
    "plt.xlabel(\"Data\")\n",
    "plt.ylabel(\"Numbers\")\n",
    "plt.show()"
   ]
  },
  {
   "cell_type": "code",
   "execution_count": null,
   "id": "fe573947",
   "metadata": {},
   "outputs": [],
   "source": []
  },
  {
   "cell_type": "code",
   "execution_count": 35,
   "id": "477be980",
   "metadata": {},
   "outputs": [],
   "source": [
    "from keras import regularizers\n",
    "\n",
    "model = Sequential()\n",
    "model.add(Conv2D(filters=32, kernel_size=(3,3), padding='Same', activation='relu', input_shape=(200, 200, 1)))\n",
    "model.add(BatchNormalization(epsilon=1e-06, momentum=0.9))\n",
    "model.add(MaxPool2D(pool_size=(3,3), strides=3))\n",
    "#model.add(Dropout(0.2))\n",
    "model.add(Conv2D(filters=64, kernel_size=(3,3), padding='Same', activation='relu'))\n",
    "model.add(BatchNormalization(epsilon=1e-06, momentum=0.9))\n",
    "model.add(MaxPool2D(pool_size=(3,3), strides=3))\n",
    "#model.add(Dropout(0.2))\n",
    "model.add(Conv2D(filters=128, kernel_size=(3,3), padding='Same', activation='relu'))\n",
    "model.add(BatchNormalization(epsilon=1e-06, momentum=0.9))\n",
    "model.add(MaxPool2D(pool_size=(3,3), strides=3))\n",
    "#model.add(Dropout(0.2))\n",
    "\n",
    "model.add(Flatten())\n",
    "\n",
    "model.add(Dense(200, activation='relu', kernel_regularizer=regularizers.l2(0.001)))\n",
    "model.add(BatchNormalization(epsilon=1e-06, momentum=0.9))\n",
    "#model.add(Dropout(0.2))\n",
    "model.add(Dense(100, activation='relu', kernel_regularizer=regularizers.l2(0.001)))\n",
    "model.add(BatchNormalization(epsilon=1e-06, momentum=0.9))\n",
    "#model.add(Dropout(0.2))\n",
    "model.add(Dense(10, activation='relu', kernel_regularizer=regularizers.l2(0.001)))\n",
    "model.add(BatchNormalization(epsilon=1e-06, momentum=0.9))\n",
    "#model.add(Dropout(0.2))\n",
    "model.add(Dense(2, activation='sigmoid'))"
   ]
  },
  {
   "cell_type": "code",
   "execution_count": 36,
   "id": "da6afa2e",
   "metadata": {},
   "outputs": [
    {
     "name": "stdout",
     "output_type": "stream",
     "text": [
      "Model: \"sequential_1\"\n",
      "_________________________________________________________________\n",
      " Layer (type)                Output Shape              Param #   \n",
      "=================================================================\n",
      " conv2d_4 (Conv2D)           (None, 200, 200, 32)      320       \n",
      "                                                                 \n",
      " batch_normalization (BatchN  (None, 200, 200, 32)     128       \n",
      " ormalization)                                                   \n",
      "                                                                 \n",
      " max_pooling2d_2 (MaxPooling  (None, 66, 66, 32)       0         \n",
      " 2D)                                                             \n",
      "                                                                 \n",
      " conv2d_5 (Conv2D)           (None, 66, 66, 64)        18496     \n",
      "                                                                 \n",
      " batch_normalization_1 (Batc  (None, 66, 66, 64)       256       \n",
      " hNormalization)                                                 \n",
      "                                                                 \n",
      " max_pooling2d_3 (MaxPooling  (None, 22, 22, 64)       0         \n",
      " 2D)                                                             \n",
      "                                                                 \n",
      " conv2d_6 (Conv2D)           (None, 22, 22, 128)       73856     \n",
      "                                                                 \n",
      " batch_normalization_2 (Batc  (None, 22, 22, 128)      512       \n",
      " hNormalization)                                                 \n",
      "                                                                 \n",
      " max_pooling2d_4 (MaxPooling  (None, 7, 7, 128)        0         \n",
      " 2D)                                                             \n",
      "                                                                 \n",
      " flatten_1 (Flatten)         (None, 6272)              0         \n",
      "                                                                 \n",
      " dense_2 (Dense)             (None, 200)               1254600   \n",
      "                                                                 \n",
      " batch_normalization_3 (Batc  (None, 200)              800       \n",
      " hNormalization)                                                 \n",
      "                                                                 \n",
      " dense_3 (Dense)             (None, 100)               20100     \n",
      "                                                                 \n",
      " batch_normalization_4 (Batc  (None, 100)              400       \n",
      " hNormalization)                                                 \n",
      "                                                                 \n",
      " dense_4 (Dense)             (None, 10)                1010      \n",
      "                                                                 \n",
      " batch_normalization_5 (Batc  (None, 10)               40        \n",
      " hNormalization)                                                 \n",
      "                                                                 \n",
      " dense_5 (Dense)             (None, 2)                 22        \n",
      "                                                                 \n",
      "=================================================================\n",
      "Total params: 1,370,540\n",
      "Trainable params: 1,369,472\n",
      "Non-trainable params: 1,068\n",
      "_________________________________________________________________\n"
     ]
    }
   ],
   "source": [
    "model.summary()"
   ]
  },
  {
   "cell_type": "code",
   "execution_count": 37,
   "id": "a5f197f7",
   "metadata": {},
   "outputs": [
    {
     "name": "stdout",
     "output_type": "stream",
     "text": [
      "You must install pydot (`pip install pydot`) and install graphviz (see instructions at https://graphviz.gitlab.io/download/) for plot_model/model_to_dot to work.\n"
     ]
    }
   ],
   "source": [
    "from tensorflow.keras.utils import plot_model\n",
    "\n",
    "plot_model(model, show_shapes = True,expand_nested = True,dpi = 80)"
   ]
  },
  {
   "cell_type": "code",
   "execution_count": 38,
   "id": "562cea4e",
   "metadata": {},
   "outputs": [],
   "source": [
    "from keras.callbacks import *\n",
    "\n",
    "class CyclicLR(Callback):\n",
    "    \"\"\"This callback implements a cyclical learning rate policy (CLR).\n",
    "    The method cycles the learning rate between two boundaries with\n",
    "    some constant frequency, as detailed in this paper (https://arxiv.org/abs/1506.01186).\n",
    "    The amplitude of the cycle can be scaled on a per-iteration or \n",
    "    per-cycle basis.\n",
    "    This class has three built-in policies, as put forth in the paper.\n",
    "    \"triangular\":\n",
    "        A basic triangular cycle w/ no amplitude scaling.\n",
    "    \"triangular2\":\n",
    "        A basic triangular cycle that scales initial amplitude by half each cycle.\n",
    "    \"exp_range\":\n",
    "        A cycle that scales initial amplitude by gamma**(cycle iterations) at each \n",
    "        cycle iteration.\n",
    "    For more detail, please see paper.\n",
    "    \n",
    "    # Example\n",
    "        ```python\n",
    "            clr = CyclicLR(base_lr=0.001, max_lr=0.006,\n",
    "                                step_size=2000., mode='triangular')\n",
    "            model.fit(X_train, Y_train, callbacks=[clr])\n",
    "        ```\n",
    "    \n",
    "    Class also supports custom scaling functions:\n",
    "        ```python\n",
    "            clr_fn = lambda x: 0.5*(1+np.sin(x*np.pi/2.))\n",
    "            clr = CyclicLR(base_lr=0.001, max_lr=0.006,\n",
    "                                step_size=2000., scale_fn=clr_fn,\n",
    "                                scale_mode='cycle')\n",
    "            model.fit(X_train, Y_train, callbacks=[clr])\n",
    "        ```    \n",
    "    # Arguments\n",
    "        base_lr: initial learning rate which is the\n",
    "            lower boundary in the cycle.\n",
    "        max_lr: upper boundary in the cycle. Functionally,\n",
    "            it defines the cycle amplitude (max_lr - base_lr).\n",
    "            The lr at any cycle is the sum of base_lr\n",
    "            and some scaling of the amplitude; therefore \n",
    "            max_lr may not actually be reached depending on\n",
    "            scaling function.\n",
    "        step_size: number of training iterations per\n",
    "            half cycle. Authors suggest setting step_size\n",
    "            2-8 x training iterations in epoch.\n",
    "        mode: one of {triangular, triangular2, exp_range}.\n",
    "            Default 'triangular'.\n",
    "            Values correspond to policies detailed above.\n",
    "            If scale_fn is not None, this argument is ignored.\n",
    "        gamma: constant in 'exp_range' scaling function:\n",
    "            gamma**(cycle iterations)\n",
    "        scale_fn: Custom scaling policy defined by a single\n",
    "            argument lambda function, where \n",
    "            0 <= scale_fn(x) <= 1 for all x >= 0.\n",
    "            mode paramater is ignored \n",
    "        scale_mode: {'cycle', 'iterations'}.\n",
    "            Defines whether scale_fn is evaluated on \n",
    "            cycle number or cycle iterations (training\n",
    "            iterations since start of cycle). Default is 'cycle'.\n",
    "    \"\"\"\n",
    "\n",
    "    def __init__(self, base_lr=0.01, max_lr=0.07, step_size=2000., mode='triangular',\n",
    "                 gamma=1., scale_fn=None, scale_mode='cycle'):\n",
    "        super(CyclicLR, self).__init__()\n",
    "\n",
    "        self.base_lr = base_lr\n",
    "        self.max_lr = max_lr\n",
    "        self.step_size = step_size\n",
    "        self.mode = mode\n",
    "        self.gamma = gamma\n",
    "        if scale_fn == None:\n",
    "            if self.mode == 'triangular':\n",
    "                self.scale_fn = lambda x: 1.\n",
    "                self.scale_mode = 'cycle'\n",
    "            elif self.mode == 'triangular2':\n",
    "                self.scale_fn = lambda x: 1/(2.**(x-1))\n",
    "                self.scale_mode = 'cycle'\n",
    "            elif self.mode == 'exp_range':\n",
    "                self.scale_fn = lambda x: gamma**(x)\n",
    "                self.scale_mode = 'iterations'\n",
    "        else:\n",
    "            self.scale_fn = scale_fn\n",
    "            self.scale_mode = scale_mode\n",
    "        self.clr_iterations = 0.\n",
    "        self.trn_iterations = 0.\n",
    "        self.history = {}\n",
    "\n",
    "        self._reset()\n",
    "\n",
    "    def _reset(self, new_base_lr=None, new_max_lr=None,\n",
    "               new_step_size=None):\n",
    "        \"\"\"Resets cycle iterations.\n",
    "        Optional boundary/step size adjustment.\n",
    "        \"\"\"\n",
    "        if new_base_lr != None:\n",
    "            self.base_lr = new_base_lr\n",
    "        if new_max_lr != None:\n",
    "            self.max_lr = new_max_lr\n",
    "        if new_step_size != None:\n",
    "            self.step_size = new_step_size\n",
    "        self.clr_iterations = 0.\n",
    "        \n",
    "    def clr(self):\n",
    "        cycle = np.floor(1+self.clr_iterations/(2*self.step_size))\n",
    "        x = np.abs(self.clr_iterations/self.step_size - 2*cycle + 1)\n",
    "        if self.scale_mode == 'cycle':\n",
    "            return self.base_lr + (self.max_lr-self.base_lr)*np.maximum(0, (1-x))*self.scale_fn(cycle)\n",
    "        else:\n",
    "            return self.base_lr + (self.max_lr-self.base_lr)*np.maximum(0, (1-x))*self.scale_fn(self.clr_iterations)\n",
    "        \n",
    "    def on_train_begin(self, logs={}):\n",
    "        logs = logs or {}\n",
    "\n",
    "        if self.clr_iterations == 0:\n",
    "            K.set_value(self.model.optimizer.lr, self.base_lr)\n",
    "        else:\n",
    "            K.set_value(self.model.optimizer.lr, self.clr())        \n",
    "            \n",
    "    def on_batch_end(self, epoch, logs=None):\n",
    "        \n",
    "        logs = logs or {}\n",
    "        self.trn_iterations += 1\n",
    "        self.clr_iterations += 1\n",
    "\n",
    "        self.history.setdefault('lr', []).append(K.get_value(self.model.optimizer.lr))\n",
    "        self.history.setdefault('iterations', []).append(self.trn_iterations)\n",
    "\n",
    "        for k, v in logs.items():\n",
    "            self.history.setdefault(k, []).append(v)\n",
    "        \n",
    "        K.set_value(self.model.optimizer.lr, self.clr())\n",
    "        "
   ]
  },
  {
   "cell_type": "code",
   "execution_count": 40,
   "id": "cbbd480a",
   "metadata": {},
   "outputs": [],
   "source": [
    "epoch = 9\n",
    "batch_size = 64"
   ]
  },
  {
   "cell_type": "code",
   "execution_count": 41,
   "id": "a24de00b",
   "metadata": {},
   "outputs": [],
   "source": [
    "clr_triangular = CyclicLR(base_lr=0.02, mode='triangular', step_size=(8*epoch))\n",
    "#optimizer = Adam(learning_rate=0.002, beta_1=0.9, beta_2=0.999)\n",
    "optimizer = SGD(lr=0.02, momentum=0.9, decay=0.01, nesterov=True)\n",
    "reduce_lr = ReduceLROnPlateau(monitor='val_loss', factor=0.2, patience=5, mode='min', min_lr=0.001, verbose=1, cooldown=1)\n",
    "early_stop = EarlyStopping(monitor='val_accuracy', verbose=1, mode='max', patience=20)"
   ]
  },
  {
   "cell_type": "code",
   "execution_count": 42,
   "id": "5aeae52e",
   "metadata": {},
   "outputs": [],
   "source": [
    "from keras import backend as K\n",
    "\n",
    "def recall_m(y_true, y_pred):\n",
    "    true_positives = K.sum(K.round(K.clip(y_true * y_pred, 0, 1)))\n",
    "    possible_positives = K.sum(K.round(K.clip(y_true, 0, 1)))\n",
    "    recall = true_positives / (possible_positives + K.epsilon())\n",
    "    return recall\n",
    "\n",
    "def precision_m(y_true, y_pred):\n",
    "    true_positives = K.sum(K.round(K.clip(y_true * y_pred, 0, 1)))\n",
    "    predicted_positives = K.sum(K.round(K.clip(y_pred, 0, 1)))\n",
    "    precision = true_positives / (predicted_positives + K.epsilon())\n",
    "    return precision\n",
    "\n",
    "def f1_m(y_true, y_pred):\n",
    "    precision = precision_m(y_true, y_pred)\n",
    "    recall = recall_m(y_true, y_pred)\n",
    "    return 2*((precision*recall)/(precision+recall+K.epsilon()))\n"
   ]
  },
  {
   "cell_type": "code",
   "execution_count": 44,
   "id": "f04ba414",
   "metadata": {},
   "outputs": [],
   "source": [
    "model.compile(optimizer = optimizer , loss = \"binary_crossentropy\", metrics=[\"accuracy\", \"mean_absolute_error\", f1_m, precision_m, recall_m, tf.keras.metrics.AUC()])"
   ]
  },
  {
   "cell_type": "code",
   "execution_count": 45,
   "id": "a2e306c3",
   "metadata": {},
   "outputs": [],
   "source": [
    "datagen = ImageDataGenerator(\n",
    "    rotation_range = 40,\n",
    "    width_shift_range = 0.2,\n",
    "    height_shift_range = 0.2,\n",
    "    #shear_range = 0.2,\n",
    "    zoom_range = 0.2,\n",
    "    fill_mode='nearest',\n",
    "    #horizontal_flip = True,\n",
    "    vertical_flip = True)\n",
    "\n",
    "    "
   ]
  },
  {
   "cell_type": "code",
   "execution_count": 46,
   "id": "2af0c23e",
   "metadata": {},
   "outputs": [
    {
     "name": "stdout",
     "output_type": "stream",
     "text": [
      "Epoch 1/9\n",
      "226/226 [==============================] - 524s 2s/step - loss: 0.7341 - accuracy: 0.9205 - mean_absolute_error: 0.1341 - f1_m: 0.9188 - precision_m: 0.9188 - recall_m: 0.9190 - auc: 0.9664 - val_loss: 0.8774 - val_accuracy: 0.8504 - val_mean_absolute_error: 0.2078 - val_f1_m: 0.8504 - val_precision_m: 0.8529 - val_recall_m: 0.8481 - val_auc: 0.9070 - lr: 0.0631\n",
      "Epoch 2/9\n",
      "226/226 [==============================] - 487s 2s/step - loss: 0.6168 - accuracy: 0.9398 - mean_absolute_error: 0.0972 - f1_m: 0.9399 - precision_m: 0.9389 - recall_m: 0.9409 - auc: 0.9802 - val_loss: 0.6441 - val_accuracy: 0.9229 - val_mean_absolute_error: 0.1076 - val_f1_m: 0.9295 - val_precision_m: 0.9181 - val_recall_m: 0.9416 - val_auc: 0.9674 - lr: 0.0339\n",
      "Epoch 3/9\n",
      "226/226 [==============================] - 483s 2s/step - loss: 0.5610 - accuracy: 0.9484 - mean_absolute_error: 0.0838 - f1_m: 0.9491 - precision_m: 0.9485 - recall_m: 0.9497 - auc: 0.9855 - val_loss: 0.5589 - val_accuracy: 0.9461 - val_mean_absolute_error: 0.0770 - val_f1_m: 0.9466 - val_precision_m: 0.9478 - val_recall_m: 0.9454 - val_auc: 0.9825 - lr: 0.0492\n",
      "Epoch 4/9\n",
      "226/226 [==============================] - 484s 2s/step - loss: 0.5410 - accuracy: 0.9479 - mean_absolute_error: 0.0832 - f1_m: 0.9477 - precision_m: 0.9465 - recall_m: 0.9489 - auc: 0.9854 - val_loss: 0.5601 - val_accuracy: 0.9414 - val_mean_absolute_error: 0.0822 - val_f1_m: 0.9420 - val_precision_m: 0.9427 - val_recall_m: 0.9413 - val_auc: 0.9802 - lr: 0.0478\n",
      "Epoch 5/9\n",
      "226/226 [==============================] - 483s 2s/step - loss: 0.5178 - accuracy: 0.9524 - mean_absolute_error: 0.0787 - f1_m: 0.9524 - precision_m: 0.9518 - recall_m: 0.9531 - auc: 0.9864 - val_loss: 0.5191 - val_accuracy: 0.9494 - val_mean_absolute_error: 0.0711 - val_f1_m: 0.9499 - val_precision_m: 0.9504 - val_recall_m: 0.9496 - val_auc: 0.9852 - lr: 0.0353\n",
      "Epoch 6/9\n",
      "226/226 [==============================] - 508s 2s/step - loss: 0.4938 - accuracy: 0.9560 - mean_absolute_error: 0.0732 - f1_m: 0.9561 - precision_m: 0.9556 - recall_m: 0.9567 - auc: 0.9888 - val_loss: 0.5249 - val_accuracy: 0.9444 - val_mean_absolute_error: 0.0756 - val_f1_m: 0.9440 - val_precision_m: 0.9446 - val_recall_m: 0.9435 - val_auc: 0.9825 - lr: 0.0617\n",
      "Epoch 7/9\n",
      "226/226 [==============================] - 492s 2s/step - loss: 0.4838 - accuracy: 0.9558 - mean_absolute_error: 0.0708 - f1_m: 0.9560 - precision_m: 0.9554 - recall_m: 0.9565 - auc: 0.9885 - val_loss: 0.4967 - val_accuracy: 0.9536 - val_mean_absolute_error: 0.0669 - val_f1_m: 0.9536 - val_precision_m: 0.9539 - val_recall_m: 0.9534 - val_auc: 0.9858 - lr: 0.0214\n",
      "Epoch 8/9\n",
      "226/226 [==============================] - 492s 2s/step - loss: 0.4723 - accuracy: 0.9563 - mean_absolute_error: 0.0690 - f1_m: 0.9568 - precision_m: 0.9567 - recall_m: 0.9569 - auc: 0.9888 - val_loss: 0.6211 - val_accuracy: 0.9090 - val_mean_absolute_error: 0.1081 - val_f1_m: 0.9095 - val_precision_m: 0.9107 - val_recall_m: 0.9084 - val_auc: 0.9659 - lr: 0.0644\n",
      "Epoch 9/9\n",
      "226/226 [==============================] - 473s 2s/step - loss: 0.4838 - accuracy: 0.9487 - mean_absolute_error: 0.0804 - f1_m: 0.9482 - precision_m: 0.9484 - recall_m: 0.9481 - auc: 0.9863 - val_loss: 0.4759 - val_accuracy: 0.9580 - val_mean_absolute_error: 0.0600 - val_f1_m: 0.9579 - val_precision_m: 0.9575 - val_recall_m: 0.9583 - val_auc: 0.9855 - lr: 0.0325\n"
     ]
    }
   ],
   "source": [
    "history = model.fit_generator(datagen.flow(X_train, Y_train, batch_size=batch_size), epochs=epoch, callbacks=[clr_triangular, reduce_lr, early_stop], verbose=1, validation_data=(X_val, Y_val))"
   ]
  },
  {
   "cell_type": "code",
   "execution_count": 47,
   "id": "d1d05f8d",
   "metadata": {},
   "outputs": [
    {
     "data": {
      "image/png": "[encoded data removed]",
      "text/plain": [
       "<Figure size 432x288 with 1 Axes>"
      ]
     },
     "metadata": {
      "needs_background": "light"
     },
     "output_type": "display_data"
    }
   ],
   "source": [
    "plt.plot(history.history[\"loss\"], color=\"blue\", label=\"Loss Values\")\n",
    "plt.xlabel(\"Epochs\")\n",
    "plt.ylabel(\"Loss\")\n",
    "plt.legend()\n",
    "plt.show()"
   ]
  },
  {
   "cell_type": "code",
   "execution_count": 48,
   "id": "7819ef7a",
   "metadata": {},
   "outputs": [
    {
     "data": {
      "image/png": "[encoded data removed]",
      "text/plain": [
       "<Figure size 576x360 with 1 Axes>"
      ]
     },
     "metadata": {
      "needs_background": "light"
     },
     "output_type": "display_data"
    }
   ],
   "source": [
    "plt.figure(figsize=(8,5))\n",
    "plt.plot(history.history[\"accuracy\"], color=\"red\", label=\"Accuracy\")\n",
    "plt.plot(history.history[\"val_accuracy\"], color=\"green\", label=\"Validation Accuracy\")\n",
    "plt.xlabel(\"Epochs\")\n",
    "plt.ylabel(\"Accuracies\")\n",
    "plt.legend()\n",
    "plt.show()"
   ]
  },
  {
   "cell_type": "code",
   "execution_count": 49,
   "id": "cba8b12a",
   "metadata": {},
   "outputs": [
    {
     "ename": "ValueError",
     "evalue": "x and y must have same first dimension, but have shapes (65,) and (9,)",
     "output_type": "error",
     "traceback": [
      "\u001b[1;31m---------------------------------------------------------------------------\u001b[0m",
      "\u001b[1;31mValueError\u001b[0m                                Traceback (most recent call last)",
      "\u001b[1;32m<ipython-input-49-0302569d27fc>\u001b[0m in \u001b[0;36m<module>\u001b[1;34m\u001b[0m\n\u001b[0;32m      4\u001b[0m \u001b[0max3\u001b[0m \u001b[1;33m=\u001b[0m \u001b[0mfig\u001b[0m\u001b[1;33m.\u001b[0m\u001b[0madd_subplot\u001b[0m\u001b[1;33m(\u001b[0m\u001b[1;36m313\u001b[0m\u001b[1;33m)\u001b[0m\u001b[1;33m\u001b[0m\u001b[1;33m\u001b[0m\u001b[0m\n\u001b[0;32m      5\u001b[0m \u001b[0mxx\u001b[0m \u001b[1;33m=\u001b[0m \u001b[0mlist\u001b[0m\u001b[1;33m(\u001b[0m\u001b[0mrange\u001b[0m\u001b[1;33m(\u001b[0m\u001b[1;36m1\u001b[0m\u001b[1;33m,\u001b[0m\u001b[1;36m65\u001b[0m\u001b[1;33m+\u001b[0m\u001b[1;36m1\u001b[0m\u001b[1;33m)\u001b[0m\u001b[1;33m)\u001b[0m\u001b[1;33m\u001b[0m\u001b[1;33m\u001b[0m\u001b[0m\n\u001b[1;32m----> 6\u001b[1;33m \u001b[0max1\u001b[0m\u001b[1;33m.\u001b[0m\u001b[0mplot\u001b[0m\u001b[1;33m(\u001b[0m\u001b[0mxx\u001b[0m\u001b[1;33m,\u001b[0m \u001b[0mhistory\u001b[0m\u001b[1;33m.\u001b[0m\u001b[0mhistory\u001b[0m\u001b[1;33m[\u001b[0m\u001b[1;34m\"f1_m\"\u001b[0m\u001b[1;33m]\u001b[0m\u001b[1;33m,\u001b[0m \u001b[0mcolor\u001b[0m\u001b[1;33m=\u001b[0m\u001b[1;34m\"b\"\u001b[0m\u001b[1;33m,\u001b[0m \u001b[0mlabel\u001b[0m\u001b[1;33m=\u001b[0m\u001b[1;34m\"F1 score\"\u001b[0m\u001b[1;33m)\u001b[0m\u001b[1;33m\u001b[0m\u001b[1;33m\u001b[0m\u001b[0m\n\u001b[0m\u001b[0;32m      7\u001b[0m \u001b[0max1\u001b[0m\u001b[1;33m.\u001b[0m\u001b[0mxaxis\u001b[0m\u001b[1;33m.\u001b[0m\u001b[0mset_ticks\u001b[0m\u001b[1;33m(\u001b[0m\u001b[0mlist\u001b[0m\u001b[1;33m(\u001b[0m\u001b[0mrange\u001b[0m\u001b[1;33m(\u001b[0m\u001b[1;36m0\u001b[0m\u001b[1;33m,\u001b[0m\u001b[1;36m65\u001b[0m\u001b[1;33m+\u001b[0m\u001b[1;36m1\u001b[0m\u001b[1;33m,\u001b[0m \u001b[1;36m5\u001b[0m\u001b[1;33m)\u001b[0m\u001b[1;33m)\u001b[0m\u001b[1;33m)\u001b[0m\u001b[1;33m\u001b[0m\u001b[1;33m\u001b[0m\u001b[0m\n\u001b[0;32m      8\u001b[0m \u001b[0max1\u001b[0m\u001b[1;33m.\u001b[0m\u001b[0myaxis\u001b[0m\u001b[1;33m.\u001b[0m\u001b[0mset_ticks\u001b[0m\u001b[1;33m(\u001b[0m\u001b[0mlist\u001b[0m\u001b[1;33m(\u001b[0m\u001b[0mnp\u001b[0m\u001b[1;33m.\u001b[0m\u001b[0marange\u001b[0m\u001b[1;33m(\u001b[0m\u001b[1;36m0.55\u001b[0m\u001b[1;33m,\u001b[0m \u001b[1;36m0.80\u001b[0m\u001b[1;33m,\u001b[0m \u001b[1;36m0.05\u001b[0m\u001b[1;33m)\u001b[0m\u001b[1;33m)\u001b[0m\u001b[1;33m)\u001b[0m\u001b[1;33m\u001b[0m\u001b[1;33m\u001b[0m\u001b[0m\n",
      "\u001b[1;32m~\\anaconda3\\lib\\site-packages\\matplotlib\\axes\\_axes.py\u001b[0m in \u001b[0;36mplot\u001b[1;34m(self, scalex, scaley, data, *args, **kwargs)\u001b[0m\n\u001b[0;32m   1741\u001b[0m         \"\"\"\n\u001b[0;32m   1742\u001b[0m         \u001b[0mkwargs\u001b[0m \u001b[1;33m=\u001b[0m \u001b[0mcbook\u001b[0m\u001b[1;33m.\u001b[0m\u001b[0mnormalize_kwargs\u001b[0m\u001b[1;33m(\u001b[0m\u001b[0mkwargs\u001b[0m\u001b[1;33m,\u001b[0m \u001b[0mmlines\u001b[0m\u001b[1;33m.\u001b[0m\u001b[0mLine2D\u001b[0m\u001b[1;33m)\u001b[0m\u001b[1;33m\u001b[0m\u001b[1;33m\u001b[0m\u001b[0m\n\u001b[1;32m-> 1743\u001b[1;33m         \u001b[0mlines\u001b[0m \u001b[1;33m=\u001b[0m \u001b[1;33m[\u001b[0m\u001b[1;33m*\u001b[0m\u001b[0mself\u001b[0m\u001b[1;33m.\u001b[0m\u001b[0m_get_lines\u001b[0m\u001b[1;33m(\u001b[0m\u001b[1;33m*\u001b[0m\u001b[0margs\u001b[0m\u001b[1;33m,\u001b[0m \u001b[0mdata\u001b[0m\u001b[1;33m=\u001b[0m\u001b[0mdata\u001b[0m\u001b[1;33m,\u001b[0m \u001b[1;33m**\u001b[0m\u001b[0mkwargs\u001b[0m\u001b[1;33m)\u001b[0m\u001b[1;33m]\u001b[0m\u001b[1;33m\u001b[0m\u001b[1;33m\u001b[0m\u001b[0m\n\u001b[0m\u001b[0;32m   1744\u001b[0m         \u001b[1;32mfor\u001b[0m \u001b[0mline\u001b[0m \u001b[1;32min\u001b[0m \u001b[0mlines\u001b[0m\u001b[1;33m:\u001b[0m\u001b[1;33m\u001b[0m\u001b[1;33m\u001b[0m\u001b[0m\n\u001b[0;32m   1745\u001b[0m             \u001b[0mself\u001b[0m\u001b[1;33m.\u001b[0m\u001b[0madd_line\u001b[0m\u001b[1;33m(\u001b[0m\u001b[0mline\u001b[0m\u001b[1;33m)\u001b[0m\u001b[1;33m\u001b[0m\u001b[1;33m\u001b[0m\u001b[0m\n",
      "\u001b[1;32m~\\anaconda3\\lib\\site-packages\\matplotlib\\axes\\_base.py\u001b[0m in \u001b[0;36m__call__\u001b[1;34m(self, data, *args, **kwargs)\u001b[0m\n\u001b[0;32m    271\u001b[0m                 \u001b[0mthis\u001b[0m \u001b[1;33m+=\u001b[0m \u001b[0margs\u001b[0m\u001b[1;33m[\u001b[0m\u001b[1;36m0\u001b[0m\u001b[1;33m]\u001b[0m\u001b[1;33m,\u001b[0m\u001b[1;33m\u001b[0m\u001b[1;33m\u001b[0m\u001b[0m\n\u001b[0;32m    272\u001b[0m                 \u001b[0margs\u001b[0m \u001b[1;33m=\u001b[0m \u001b[0margs\u001b[0m\u001b[1;33m[\u001b[0m\u001b[1;36m1\u001b[0m\u001b[1;33m:\u001b[0m\u001b[1;33m]\u001b[0m\u001b[1;33m\u001b[0m\u001b[1;33m\u001b[0m\u001b[0m\n\u001b[1;32m--> 273\u001b[1;33m             \u001b[1;32myield\u001b[0m \u001b[1;32mfrom\u001b[0m \u001b[0mself\u001b[0m\u001b[1;33m.\u001b[0m\u001b[0m_plot_args\u001b[0m\u001b[1;33m(\u001b[0m\u001b[0mthis\u001b[0m\u001b[1;33m,\u001b[0m \u001b[0mkwargs\u001b[0m\u001b[1;33m)\u001b[0m\u001b[1;33m\u001b[0m\u001b[1;33m\u001b[0m\u001b[0m\n\u001b[0m\u001b[0;32m    274\u001b[0m \u001b[1;33m\u001b[0m\u001b[0m\n\u001b[0;32m    275\u001b[0m     \u001b[1;32mdef\u001b[0m \u001b[0mget_next_color\u001b[0m\u001b[1;33m(\u001b[0m\u001b[0mself\u001b[0m\u001b[1;33m)\u001b[0m\u001b[1;33m:\u001b[0m\u001b[1;33m\u001b[0m\u001b[1;33m\u001b[0m\u001b[0m\n",
      "\u001b[1;32m~\\anaconda3\\lib\\site-packages\\matplotlib\\axes\\_base.py\u001b[0m in \u001b[0;36m_plot_args\u001b[1;34m(self, tup, kwargs)\u001b[0m\n\u001b[0;32m    397\u001b[0m \u001b[1;33m\u001b[0m\u001b[0m\n\u001b[0;32m    398\u001b[0m         \u001b[1;32mif\u001b[0m \u001b[0mx\u001b[0m\u001b[1;33m.\u001b[0m\u001b[0mshape\u001b[0m\u001b[1;33m[\u001b[0m\u001b[1;36m0\u001b[0m\u001b[1;33m]\u001b[0m \u001b[1;33m!=\u001b[0m \u001b[0my\u001b[0m\u001b[1;33m.\u001b[0m\u001b[0mshape\u001b[0m\u001b[1;33m[\u001b[0m\u001b[1;36m0\u001b[0m\u001b[1;33m]\u001b[0m\u001b[1;33m:\u001b[0m\u001b[1;33m\u001b[0m\u001b[1;33m\u001b[0m\u001b[0m\n\u001b[1;32m--> 399\u001b[1;33m             raise ValueError(f\"x and y must have same first dimension, but \"\n\u001b[0m\u001b[0;32m    400\u001b[0m                              f\"have shapes {x.shape} and {y.shape}\")\n\u001b[0;32m    401\u001b[0m         \u001b[1;32mif\u001b[0m \u001b[0mx\u001b[0m\u001b[1;33m.\u001b[0m\u001b[0mndim\u001b[0m \u001b[1;33m>\u001b[0m \u001b[1;36m2\u001b[0m \u001b[1;32mor\u001b[0m \u001b[0my\u001b[0m\u001b[1;33m.\u001b[0m\u001b[0mndim\u001b[0m \u001b[1;33m>\u001b[0m \u001b[1;36m2\u001b[0m\u001b[1;33m:\u001b[0m\u001b[1;33m\u001b[0m\u001b[1;33m\u001b[0m\u001b[0m\n",
      "\u001b[1;31mValueError\u001b[0m: x and y must have same first dimension, but have shapes (65,) and (9,)"
     ]
    },
    {
     "data": {
      "image/png": "[encoded data removed]",
      "text/plain": [
       "<Figure size 720x720 with 3 Axes>"
      ]
     },
     "metadata": {
      "needs_background": "light"
     },
     "output_type": "display_data"
    }
   ],
   "source": [
    "fig = plt.figure(1, figsize=(10,10))\n",
    "ax1 = fig.add_subplot(311)\n",
    "ax2 = fig.add_subplot(312)\n",
    "ax3 = fig.add_subplot(313)\n",
    "xx = list(range(1,65+1))\n",
    "ax1.plot(xx, history.history[\"f1_m\"], color=\"b\", label=\"F1 score\")\n",
    "ax1.xaxis.set_ticks(list(range(0,65+1, 5)))\n",
    "ax1.yaxis.set_ticks(list(np.arange(0.55, 0.80, 0.05)))\n",
    "ax1.legend()\n",
    "\n",
    "ax2.plot(xx, history.history[\"precision_m\"], color=\"g\", label=\"Precision\")\n",
    "ax2.xaxis.set_ticks(list(range(0,65+1, 5)))\n",
    "ax2.yaxis.set_ticks(list(np.arange(0.55, 0.80, 0.05)))\n",
    "ax2.legend()\n",
    "\n",
    "ax3.plot(xx, history.history[\"recall_m\"], color=\"r\", label=\"Recall\")\n",
    "ax3.xaxis.set_ticks(list(range(0,65+1,5)))\n",
    "ax3.yaxis.set_ticks(list(np.arange(0.55, 0.80, 0.05)))\n",
    "ax3.legend()\n",
    "\n",
    "fig.supxlabel('Epochs')\n",
    "fig.supylabel('Scores')\n",
    "plt.show()"
   ]
  },
  {
   "cell_type": "code",
   "execution_count": 50,
   "id": "12746748",
   "metadata": {},
   "outputs": [],
   "source": [
    "score = model.evaluate(X_test, y_test, verbose=0)"
   ]
  },
  {
   "cell_type": "code",
   "execution_count": 51,
   "id": "607c82b1",
   "metadata": {},
   "outputs": [
    {
     "name": "stdout",
     "output_type": "stream",
     "text": [
      "Test loss: 0.489\n",
      "Test accuracy: 0.953\n",
      "Test MAE: 0.064\n",
      "F1 score: 0.953\n",
      "Precision: 0.953\n",
      "Recall: 0.954\n",
      "AUC: 0.984\n"
     ]
    }
   ],
   "source": [
    "print('Test loss:', round(score[0], 3)) \n",
    "print('Test accuracy:', round(score[1], 3))\n",
    "print('Test MAE:', round(score[2], 3))\n",
    "print('F1 score:', round(score[3], 3))\n",
    "print('Precision:', round(score[4], 3))\n",
    "print('Recall:', round(score[5], 3))\n",
    "print(\"AUC:\", round(score[6], 3))"
   ]
  },
  {
   "cell_type": "code",
   "execution_count": 52,
   "id": "9b537062",
   "metadata": {},
   "outputs": [],
   "source": [
    "y_pred = model.predict(X_test)"
   ]
  },
  {
   "cell_type": "code",
   "execution_count": 59,
   "id": "63503907",
   "metadata": {},
   "outputs": [
    {
     "data": {
      "image/png": "[encoded data removed]",
      "text/plain": [
       "<Figure size 432x432 with 2 Axes>"
      ]
     },
     "metadata": {
      "needs_background": "light"
     },
     "output_type": "display_data"
    }
   ],
   "source": [
    "from sklearn.metrics import ConfusionMatrixDisplay\n",
    "from sklearn.metrics import confusion_matrix\n",
    "\n",
    "cm = confusion_matrix(np.argmax(y_test,axis = 1), np.argmax(y_pred,axis = 1))\n",
    "disp = ConfusionMatrixDisplay(confusion_matrix=cm, display_labels=[\"MaliciousImage\", \"NormalImage\"])\n",
    "fig, ax = plt.subplots(figsize=(6, 6))\n",
    "disp.plot(cmap=plt.cm.Blues, ax=ax)\n",
    "plt.show()"
   ]
  },
  {
   "cell_type": "code",
   "execution_count": null,
   "id": "e7187414",
   "metadata": {},
   "outputs": [],
   "source": []
  }
 ],
 "metadata": {
  "kernelspec": {
   "display_name": "Python 3 (ipykernel)",
   "language": "python",
   "name": "python3"
  },
  "language_info": {
   "codemirror_mode": {
    "name": "ipython",
    "version": 3
   },
   "file_extension": ".py",
   "mimetype": "text/x-python",
   "name": "python",
   "nbconvert_exporter": "python",
   "pygments_lexer": "ipython3",
   "version": "3.8.12"
  }
 },
 "nbformat": 4,
 "nbformat_minor": 5
}
